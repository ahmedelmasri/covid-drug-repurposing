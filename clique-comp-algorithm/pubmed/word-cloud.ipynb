{
 "cells": [
  {
   "cell_type": "code",
   "execution_count": 3,
   "metadata": {},
   "outputs": [],
   "source": [
    "file_pairs = open(\"cliques_of_4_pubmed_drugs_0-7000_sup.001.txt\")\n",
    "file_wc = open(\"ct-wc-data-pubmed-4.txt\", \"a\")\n",
    "for line in file_pairs:\n",
    "    comps = line.split(\"|\")\n",
    "    ndx1 = comps[0].index(\"_\")\n",
    "    ndx2 = comps[1].index(\"_\")  \n",
    "    ndx3 = comps[2].index(\"_\") \n",
    "    ndx4 = comps[3].index(\"_\")     \n",
    "    file_wc.write(comps[0][ndx1+1:] + \" \" + comps[1][ndx2+1:] + \" \" + comps[2][ndx3+1:] + \" \" + comps[3][ndx4+1:])\n",
    "    file_wc.write(\"\\n\")\n",
    "    \n",
    "file_wc.close()\n",
    "    \n",
    "    \n",
    "    \n",
    "    "
   ]
  },
  {
   "cell_type": "code",
   "execution_count": null,
   "metadata": {},
   "outputs": [],
   "source": []
  }
 ],
 "metadata": {
  "kernelspec": {
   "display_name": "Python 3",
   "language": "python",
   "name": "python3"
  },
  "language_info": {
   "codemirror_mode": {
    "name": "ipython",
    "version": 3
   },
   "file_extension": ".py",
   "mimetype": "text/x-python",
   "name": "python",
   "nbconvert_exporter": "python",
   "pygments_lexer": "ipython3",
   "version": "3.8.5"
  }
 },
 "nbformat": 4,
 "nbformat_minor": 4
}
