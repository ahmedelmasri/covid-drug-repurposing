{
 "cells": [
  {
   "cell_type": "code",
   "execution_count": 1,
   "metadata": {},
   "outputs": [],
   "source": [
    "def search_n_match(clq1, clq2):\n",
    "    if len(clq1) != len(clq2):\n",
    "        print('Cliques of differnt sizes are not comparable!!!')\n",
    "        return -1\n",
    "    similarity_count  = 0\n",
    "    for position in range (0, len(clq2)):\n",
    "        if clq1[position] in clq2:\n",
    "            similarity_count +=1\n",
    "        \n",
    "    return similarity_count"
   ]
  },
  {
   "cell_type": "code",
   "execution_count": 83,
   "metadata": {},
   "outputs": [
    {
     "name": "stdout",
     "output_type": "stream",
     "text": [
      "We may have a winner ... sim values:  3\n",
      "PM Clique:  ['CHEBI5801_hydroxychloroquine', 'CHEBI3638_chloroquine', 'CHEBI2955_azithromycin', 'CHEBI50845_doxycycline']\n",
      "CT Clique:  ['CHEBI5801_hydroxychloroquine', 'CHEBI2955_azithromycin', 'CHEBI50845_doxycycline', 'CHEBI6078_ivermectin']\n",
      "\n",
      "\n",
      "\n",
      "We may have a winner ... sim values:  3\n",
      "PM Clique:  ['CHEBI5801_hydroxychloroquine', 'CHEBI62932_mycophenolate', 'CHEBI2955_azithromycin', 'CHEBI50845_doxycycline']\n",
      "CT Clique:  ['CHEBI5801_hydroxychloroquine', 'CHEBI2955_azithromycin', 'CHEBI50845_doxycycline', 'CHEBI6078_ivermectin']\n",
      "\n",
      "\n",
      "\n",
      "We may have a winner ... sim values:  3\n",
      "PM Clique:  ['CHEBI5801_hydroxychloroquine', 'CHEBI3638_chloroquine', 'CHEBI2955_azithromycin', 'CHEBI50845_doxycycline']\n",
      "CT Clique:  ['CHEBI5801_hydroxychloroquine', 'CHEBI2955_azithromycin', 'CHEBI50845_doxycycline', 'CHEBI68579_rivaroxaban']\n",
      "\n",
      "\n",
      "\n",
      "We may have a winner ... sim values:  3\n",
      "PM Clique:  ['CHEBI5801_hydroxychloroquine', 'CHEBI62932_mycophenolate', 'CHEBI2955_azithromycin', 'CHEBI50845_doxycycline']\n",
      "CT Clique:  ['CHEBI5801_hydroxychloroquine', 'CHEBI2955_azithromycin', 'CHEBI50845_doxycycline', 'CHEBI68579_rivaroxaban']\n",
      "\n",
      "\n",
      "\n"
     ]
    }
   ],
   "source": [
    "pubmed_clique_file = '/Users/ahamed/Projects/COVID-CLUSTERS/clique-comp-algorithm/pubmed/cliques_of_4_pubmed_drugs_7001-14000_sup.001.txt'\n",
    "ct_clique_file = '/Users/ahamed/Projects/COVID-CLUSTERS/clique-comp-algorithm/ct/ct-cliques_4_text.txt'\n",
    "pubmed_handle = open(pubmed_clique_file)\n",
    "ct_handle = open(ct_clique_file)\n",
    "\n",
    "pubmed_clique_lines = pubmed_handle.readlines()\n",
    "\n",
    "    \n",
    "ct_clique_line =  ct_handle.readlines() \n",
    "\n",
    "\n",
    "for index in range(0, len(ct_clique_line)): \n",
    "    \n",
    "    ct_entity = ct_clique_line[index].strip('\\n').strip('|').split('|')\n",
    "#     print('CT', ct_entity)s\n",
    "    \n",
    "    for index in range(0, len(pubmed_clique_lines)):\n",
    "        pubmed_entity = pubmed_clique_lines[index].strip('\\n').strip('|').split('|')\n",
    "#         print('PM: ', pubmed_entity)\n",
    "\n",
    "        sim_value = search_n_match(ct_entity, pubmed_entity)\n",
    "        if sim_value == 3 :\n",
    "            print('We may have a winner ... sim values: ', sim_value)\n",
    "            print('PM Clique: ', pubmed_entity ) \n",
    "            print('CT Clique: ', ct_entity )\n",
    "            print('\\n\\n')"
   ]
  },
  {
   "cell_type": "code",
   "execution_count": 65,
   "metadata": {},
   "outputs": [],
   "source": [
    "# def compare_cliques_debugged(clq1, clq2):\n",
    "#     if len(clq1) != len(clq2):\n",
    "#         print('Cliques of differnt sizes are not comparable!!!')\n",
    "#         return -1\n",
    "#     similarity_count  = 0\n",
    "#     for position in range (0, len(clq2)):\n",
    "#         if clq1[position] in clq2:\n",
    "#             print('Found a drug in pubmed that is also in clinical_trials', clq1[position])\n",
    "#             similarity_count +=1\n",
    "        \n",
    "#     return similarity_count"
   ]
  },
  {
   "cell_type": "code",
   "execution_count": 11,
   "metadata": {},
   "outputs": [],
   "source": [
    "# CT_Clique =  ['CHEBI5801_hydroxychloroquine', 'CHEBI2955_azithromycin', 'CHEBI50845_doxycycline', 'CHEBI68579_rivaroxaban']\n",
    "# PM_Clique =  ['CHEBI5801_hydroxychloroquine', 'CHEBI3638_chloroquine', 'CHEBI2955_azithromycin', 'CHEBI6541_losartan']\n",
    "\n",
    "\n",
    "# compare_cliques_debugged(CT_Clique, PM_Clique)\n"
   ]
  },
  {
   "cell_type": "code",
   "execution_count": 13,
   "metadata": {},
   "outputs": [],
   "source": [
    "# estrogen "
   ]
  },
  {
   "cell_type": "code",
   "execution_count": null,
   "metadata": {},
   "outputs": [],
   "source": [
    "# estradiol"
   ]
  }
 ],
 "metadata": {
  "kernelspec": {
   "display_name": "Python 3",
   "language": "python",
   "name": "python3"
  },
  "language_info": {
   "codemirror_mode": {
    "name": "ipython",
    "version": 3
   },
   "file_extension": ".py",
   "mimetype": "text/x-python",
   "name": "python",
   "nbconvert_exporter": "python",
   "pygments_lexer": "ipython3",
   "version": "3.8.5"
  }
 },
 "nbformat": 4,
 "nbformat_minor": 4
}
